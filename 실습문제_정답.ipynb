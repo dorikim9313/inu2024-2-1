{
  "nbformat": 4,
  "nbformat_minor": 0,
  "metadata": {
    "colab": {
      "provenance": [],
      "include_colab_link": true
    },
    "kernelspec": {
      "name": "python3",
      "display_name": "Python 3"
    },
    "language_info": {
      "name": "python"
    }
  },
  "cells": [
    {
      "cell_type": "markdown",
      "metadata": {
        "id": "view-in-github",
        "colab_type": "text"
      },
      "source": [
        "<a href=\"https://colab.research.google.com/github/dorikim9313/inu2024-2-1/blob/main/%EC%8B%A4%EC%8A%B5%EB%AC%B8%EC%A0%9C_%EC%A0%95%EB%8B%B5.ipynb\" target=\"_parent\"><img src=\"https://colab.research.google.com/assets/colab-badge.svg\" alt=\"Open In Colab\"/></a>"
      ]
    },
    {
      "cell_type": "markdown",
      "source": [
        "###1. 가위바위보 게임 만들기"
      ],
      "metadata": {
        "id": "qlHuN3womyYg"
      }
    },
    {
      "cell_type": "code",
      "source": [],
      "metadata": {
        "colab": {
          "base_uri": "https://localhost:8080/"
        },
        "id": "L0OGjroMMbXo",
        "outputId": "33b3d24f-49a4-4daa-8ec9-b2bfb582c02b"
      },
      "execution_count": null,
      "outputs": [
        {
          "output_type": "stream",
          "name": "stdout",
          "text": [
            "가위, 바위, 보 중에서 하나 입력: 가위\n",
            "유저 : 가위 VS 컴퓨터 : 가위 --> 결과 : 비김\n"
          ]
        }
      ]
    },
    {
      "cell_type": "code",
      "source": [
        "import random\n",
        "\n",
        "cnt = random.randint(1,3)\n",
        "if cnt == 1 :\n",
        "    com = '가위'\n",
        "elif cnt == 2 :\n",
        "    com = '바위'\n",
        "else :\n",
        "    com = '보'\n",
        "print(com)\n",
        "\n",
        "player = input('가위, 바위, 보 중에서 하나 입력 : ')\n",
        "\n",
        "if player == com :  #비겼을때\n",
        "    result = '비김'\n",
        "elif player == '가위' and com == '보' :\n",
        "    result = '이김'\n",
        "elif player == '바위' and com == '가위' :\n",
        "    result = '이김'\n",
        "elif player == '보' and com == '바위' :\n",
        "    result = '이김'\n",
        "else :\n",
        "    result = '졌음'\n",
        "\n",
        "print(f'유저 : {player} VS 컴퓨터 : {com} --> 결과 : {result}')"
      ],
      "metadata": {
        "colab": {
          "base_uri": "https://localhost:8080/"
        },
        "id": "QwPa1SE62ITS",
        "outputId": "309c660d-8031-479c-ebc2-4d267b5a230c"
      },
      "execution_count": null,
      "outputs": [
        {
          "output_type": "stream",
          "name": "stdout",
          "text": [
            "바위\n",
            "가위, 바위, 보 중에서 하나 입력 : 보\n",
            "유저 : 보 VS 컴퓨터 : 바위 --> 결과 : 이김\n"
          ]
        }
      ]
    },
    {
      "cell_type": "markdown",
      "source": [
        "###2. 4개의 점수를 입력 받아서 총점과 평균(소숫점둘째자리)을 구하고\n",
        "\n",
        "\n",
        "###평균이 90점이상 'Level 1' 80점 이상 'Level 2' 70점이상 'Level 3' 나머지는 'FAIL'로 출력하여라"
      ],
      "metadata": {
        "id": "4Ne0l2HUlAgR"
      }
    },
    {
      "cell_type": "code",
      "source": [],
      "metadata": {
        "colab": {
          "base_uri": "https://localhost:8080/"
        },
        "id": "tD49_daklCIR",
        "outputId": "b4600be5-1a88-4fd5-bde7-a048ee7b3f67"
      },
      "execution_count": null,
      "outputs": [
        {
          "output_type": "stream",
          "name": "stdout",
          "text": [
            "1번째 점수 입력 : 95\n",
            "2번째 점수 입력 : 85\n",
            "3번째 점수 입력 : 67\n",
            "4번째 점수 입력 : 98\n",
            "총점 : 345점, 평균 : 86.25점, 평가 : Level2\n"
          ]
        }
      ]
    },
    {
      "cell_type": "code",
      "source": [
        "score1 = int(input('1번째 점수 입력 : '))\n",
        "score2 = int(input('2번째 점수 입력 : '))\n",
        "score3 = int(input('3번째 점수 입력 : '))\n",
        "score4 = int(input('4번째 점수 입력 : '))\n",
        "\n",
        "total = score1 + score2 + score3 + score4\n",
        "avg = total / 4\n",
        "\n",
        "if avg >= 90 :\n",
        "    result = 'Level1'\n",
        "elif avg >= 80 :\n",
        "    result = 'Level2'\n",
        "elif avg >= 70 :\n",
        "    result = 'Level3'\n",
        "else :\n",
        "    result = 'FAIL'\n",
        "\n",
        "print(f'총점 : {total}점, 평균 : {avg:.2f}점, 평가 : {result}')"
      ],
      "metadata": {
        "id": "Uhd5_LaD6aRj"
      },
      "execution_count": null,
      "outputs": []
    },
    {
      "cell_type": "markdown",
      "source": [
        "# Self Check"
      ],
      "metadata": {
        "id": "1P6fO1VtQTdh"
      }
    },
    {
      "cell_type": "markdown",
      "source": [
        "### 1차,2차 두번의 점수를 입력받아 합격 및 불합격 여부를 출력한다\n",
        "### 조건 - 평균 70점 이상, 각 점수당 50점 이상이면 합격"
      ],
      "metadata": {
        "id": "Clj0JHu2O874"
      }
    },
    {
      "cell_type": "code",
      "source": [],
      "metadata": {
        "colab": {
          "base_uri": "https://localhost:8080/"
        },
        "id": "Ao2S5EpKTU8Q",
        "outputId": "d86bf54d-0a55-4087-9525-54ee6eab84ef"
      },
      "execution_count": null,
      "outputs": [
        {
          "output_type": "stream",
          "name": "stdout",
          "text": [
            "1차 점수 입력: 70\n",
            "2차 점수 입력: 95\n",
            "합격\n",
            "1차 점수 입력: 49\n",
            "2차 점수 입력: 100\n",
            "불합격\n",
            "1차 점수 입력: 68\n",
            "2차 점수 입력: 66\n",
            "불합격\n"
          ]
        }
      ]
    },
    {
      "cell_type": "code",
      "source": [
        "#소스작성\n",
        "score1 = int(input('1차 점수 입력 : '))\n",
        "score2 = int(input('2차 점수 입력 : '))\n",
        "\n",
        "avg = (score1 + score2) / 2\n",
        "\n",
        "if avg >= 70 and score1 >= 50 and score2 >= 50 :\n",
        "    print('합격')\n",
        "else :\n",
        "    print('불합격')"
      ],
      "metadata": {
        "id": "eVMLE_xKOZzQ"
      },
      "execution_count": null,
      "outputs": []
    },
    {
      "cell_type": "markdown",
      "source": [
        "### 연도를 입력받아 윤년인지 여부의 결과를 출력하시오\n",
        "### 윤년는 4년마다 한번, 그리고 100년마다는 없고 400년 마다는 1번"
      ],
      "metadata": {
        "id": "J_PdvQknPEQP"
      }
    },
    {
      "cell_type": "code",
      "source": [],
      "metadata": {
        "colab": {
          "base_uri": "https://localhost:8080/"
        },
        "id": "hob-JXjRQU3i",
        "outputId": "976dd494-3c8a-4ac1-cf16-56b9d11292d5"
      },
      "execution_count": null,
      "outputs": [
        {
          "output_type": "stream",
          "name": "stdout",
          "text": [
            "연도 입력 : 2019\n",
            "2019년은 윤년이 아닙니다.\n",
            "연도 입력 : 2000\n",
            "2000년은 윤년입니다.\n"
          ]
        }
      ]
    },
    {
      "cell_type": "code",
      "source": [
        "#소스작성\n",
        "year = int(input('연도 입력 : '))\n",
        "\n",
        "if year % 4 == 0 and year % 100 != 0 or year % 400 == 0 :\n",
        "    print(f'{year}년은 윤년입니다.')\n",
        "else :\n",
        "    print(f'{year}년은 윤년이 아닙니다.')"
      ],
      "metadata": {
        "id": "d89lIfjbOdc3"
      },
      "execution_count": null,
      "outputs": []
    },
    {
      "cell_type": "markdown",
      "source": [
        "#### 키와 몸무게를 입력 받아 BMI 지수를 계산한 후 비만 상태를 출력하시오\n",
        "#### BMI = 체중(kg)/(키(m)**2)\n",
        "#### BMI 지수가 18 미만이면 저체중\n",
        "#### BMI 지수가 18~23 미만이면 정상\n",
        "#### BMI 지수가 23~25 미만이면 과체중\n",
        "#### BMI 지수가 25 이상이면 비만\n"
      ],
      "metadata": {
        "id": "QV-v11VQPKyA"
      }
    },
    {
      "cell_type": "code",
      "source": [],
      "metadata": {
        "colab": {
          "base_uri": "https://localhost:8080/"
        },
        "id": "n5ziG-wyRT7Z",
        "outputId": "44b71232-8d13-4e94-deae-105b6ee53a30"
      },
      "execution_count": null,
      "outputs": [
        {
          "output_type": "stream",
          "name": "stdout",
          "text": [
            "키(cm) 입력 : 182.3\n",
            "몸무게(kg) 입력 : 72.3\n",
            "BMI : 21.76, 결과 : 정상\n"
          ]
        }
      ]
    },
    {
      "cell_type": "code",
      "source": [
        "#소스작성\n",
        "height = int(input('키(cm) 입력 : '))\n",
        "width = int(input('몸무게(kg)입력 : '))\n",
        "\n",
        "bmi = width / (height/100) ** 2\n",
        "\n",
        "if bmi < 18 :\n",
        "    result = '저체중'\n",
        "elif bmi < 23 :\n",
        "    result = '정상'\n",
        "elif bmi < 25 :\n",
        "    result = '과체중'\n",
        "else :\n",
        "    result = '비만'\n",
        "\n",
        "print(f'BMI : {bmi:.2f}, 결과 : {result}')"
      ],
      "metadata": {
        "id": "XBdleljrOe1O"
      },
      "execution_count": null,
      "outputs": []
    }
  ]
}